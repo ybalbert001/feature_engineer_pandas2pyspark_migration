{
 "cells": [
  {
   "cell_type": "code",
   "execution_count": 9,
   "id": "dbc43286-121f-40bd-806a-b1f643017efe",
   "metadata": {},
   "outputs": [
    {
     "name": "stdout",
     "output_type": "stream",
     "text": [
      "Welcome to the Glue Interactive Sessions Kernel\n",
      "For more information on available magic commands, please type %help in any new cell.\n",
      "\n",
      "Please view our Getting Started page to access the most up-to-date information on the Interactive Sessions kernel: https://docs.aws.amazon.com/glue/latest/dg/interactive-sessions.html\n",
      "It looks like there is a newer version of the kernel available. The latest version is 0.37.2 and you have 0.37.0 installed.\n",
      "Please run `pip install --upgrade aws-glue-sessions` to upgrade your kernel\n",
      "Previous region: us-east-1\n",
      "Setting new region to: us-east-1\n",
      "Reauthenticating Glue client with new region: us-east-1\n",
      "IAM role has been set to None. Reauthenticating.\n",
      "Authenticating with environment variables and user-defined glue_role_arn: arn:aws:iam::548604325312:role/service-role/AmazonSageMaker-ExecutionRole-20230209T105554\n",
      "Authentication done.\n",
      "Region is set to: us-east-1\n",
      "Setting Glue version to: 3.0\n",
      "Current idle_timeout is 2880 minutes.\n",
      "idle_timeout has been set to 600 minutes.\n",
      "Previous number of workers: 5\n",
      "Setting new number of workers to: 5\n",
      "Previous worker type: G.1X\n",
      "Setting new worker type to: G.1X\n",
      "Current iam_role is arn:aws:iam::548604325312:role/service-role/AmazonSageMaker-ExecutionRole-20230209T105554\n",
      "iam_role has been set to arn:aws:iam::548604325312:role/service-role/AmazonSageMaker-ExecutionRole-20230209T105554.\n"
     ]
    },
    {
     "name": "stderr",
     "output_type": "stream",
     "text": [
      "No configuration values were provided."
     ]
    }
   ],
   "source": [
    "%region us-east-1\n",
    "%glue_version 3.0\n",
    "%idle_timeout 600\n",
    "%number_of_workers 5\n",
    "%worker_type G.1X\n",
    "%iam_role arn:aws:iam::548604325312:role/service-role/AmazonSageMaker-ExecutionRole-20230209T105554\n",
    "%%configure\n",
    "{\n",
    "# \"--enable-spark-ui\": \"true\",\n",
    "# \"--spark-event-logs-path\": \"s3://sagemaker-us-west-2-324874492192/glue-interactive-sess-demo/logs/\",\n",
    "# \"--additional-python-modules\":\"\",\n",
    "# \"--extra-jars\":\"\"\n",
    "}"
   ]
  },
  {
   "cell_type": "code",
   "execution_count": 1,
   "id": "0f8e760f-ad0c-4b25-b1ef-afd3d3db13fd",
   "metadata": {
    "tags": []
   },
   "outputs": [
    {
     "name": "stdout",
     "output_type": "stream",
     "text": [
      "Trying to create a Glue session for the kernel.\n",
      "Worker Type: G.1X\n",
      "Number of Workers: 5\n",
      "Session ID: 6a24ca41-cd01-489f-afeb-5f2bac3cc8a7\n",
      "Job Type: glueetl\n",
      "Applying the following default arguments:\n",
      "--glue_kernel_version 0.37.0\n",
      "--enable-glue-datacatalog true\n",
      "Waiting for session 6a24ca41-cd01-489f-afeb-5f2bac3cc8a7 to get into ready status...\n",
      "Session 6a24ca41-cd01-489f-afeb-5f2bac3cc8a7 has been created.\n",
      "\n"
     ]
    }
   ],
   "source": [
    "import argparse\n",
    "import random\n",
    "from pyspark.sql import SparkSession\n",
    "from pyspark.sql import HiveContext\n",
    "from pyspark.sql.functions import col, udf\n",
    "from pyspark.sql.types import StringType"
   ]
  },
  {
   "cell_type": "code",
   "execution_count": 21,
   "id": "ae2052ab-8ed2-4721-a5a9-67bda7c6a3ca",
   "metadata": {
    "tags": []
   },
   "outputs": [
    {
     "name": "stdout",
     "output_type": "stream",
     "text": [
      "+----+------------+------------+----+-----+\n",
      "|asin|country_code|daily_budget|rate|price|\n",
      "+----+------------+------------+----+-----+\n",
      "| 123|          CN|        1203|0.89|102.9|\n",
      "| 122|          CN|        1203|null|102.9|\n",
      "| 125|          CN|        1203|0.89| null|\n",
      "| 124|          US|        5223|0.89|142.9|\n",
      "+----+------------+------------+----+-----+\n",
      "\n",
      "+----+------------+-------------------+----------+\n",
      "|asin|country_code|        report_date|review_num|\n",
      "+----+------------+-------------------+----------+\n",
      "| 123|          CN|2023-02-09 01:00:20|        20|\n",
      "| 122|          CN|2023-02-08 02:12:02|        12|\n",
      "| 121|          CN|2023-02-08 03:12:44|        12|\n",
      "| 125|          CN|2023-02-04 04:04:01|         9|\n",
      "| 124|          US|2023-02-02 05:02:02|         8|\n",
      "+----+------------+-------------------+----------+\n"
     ]
    }
   ],
   "source": [
    "spark = SparkSession.builder.appName(\"anker_workshop\").config(\n",
    "    \"spark.hadoop.hive.metastore.client.factory.class\",\n",
    "    \"com.amazonaws.glue.catalog.metastore.AWSGlueDataCatalogHiveClientFactory\"\n",
    ").enableHiveSupport().getOrCreate()\n",
    "\n",
    "df1_data = [(123, 'CN', '1203', 0.89, 102.9), \n",
    "            (122, 'CN', '1203', None, 102.9), \n",
    "            (125, 'CN', '1203', 0.89, None), \n",
    "            (124, 'US', '5223', 0.89, 142.9)]\n",
    "df1 = spark.createDataFrame(df1_data, ['asin', 'country_code', 'daily_budget', 'rate', 'price']) # list -> DF\n",
    "\n",
    "df2_data = [(123, 'CN', '2023-02-09 01:00:20', 20), \n",
    "            (122, 'CN', '2023-02-08 02:12:02', 12), \n",
    "            (121, 'CN', '2023-02-08 03:12:44', 12), \n",
    "            (125, 'CN', '2023-02-04 04:04:01', 9), \n",
    "            (124, 'US', '2023-02-02 05:02:02', 8)]\n",
    "df2 = spark.createDataFrame(df2_data, ['asin', 'country_code', 'report_date','review_num']) # list -> DF\n",
    "\n",
    "df1.show()\n",
    "df2.show()"
   ]
  },
  {
   "cell_type": "code",
   "execution_count": 3,
   "id": "32a43e33-f68e-42f2-9d15-48d8ed9ab919",
   "metadata": {
    "tags": []
   },
   "outputs": [
    {
     "name": "stdout",
     "output_type": "stream",
     "text": [
      "root\n",
      " |-- asin: long (nullable = true)\n",
      " |-- country_code: string (nullable = true)\n",
      " |-- daily_budget: float (nullable = true)\n",
      " |-- rate: double (nullable = true)\n",
      " |-- price: double (nullable = true)\n"
     ]
    }
   ],
   "source": [
    "df_cast = df1.withColumn(\"daily_budget\",df1.daily_budget.cast('float'))\n",
    "df_cast.printSchema()"
   ]
  },
  {
   "cell_type": "code",
   "execution_count": 4,
   "id": "14ddf64f-7ac6-4d61-832a-d13b55dd2f24",
   "metadata": {
    "tags": []
   },
   "outputs": [
    {
     "name": "stdout",
     "output_type": "stream",
     "text": [
      "+----+------------+------------+----+-----+\n",
      "|asin|country_code|daily_budget|rate|price|\n",
      "+----+------------+------------+----+-----+\n",
      "| 123|          CN|        1203|0.89|102.9|\n",
      "| 124|          US|        5223|0.89|142.9|\n",
      "+----+------------+------------+----+-----+\n"
     ]
    }
   ],
   "source": [
    "# dropna \n",
    "# help(df.dropna) # check doc\n",
    "\n",
    "# 没有inplace参数，spark中可以接都是inplace=Flase\n",
    "df_dropna = df1.dropna(how=\"any\", subset=['rate', 'price'])\n",
    "df_dropna.show()"
   ]
  },
  {
   "cell_type": "code",
   "execution_count": 5,
   "id": "f15dcd2f-9a79-46af-969b-eb5ed868f20a",
   "metadata": {
    "tags": []
   },
   "outputs": [
    {
     "name": "stdout",
     "output_type": "stream",
     "text": [
      "+----+------------+------------+----+-----+\n",
      "|asin|country_code|daily_budget|rate|price|\n",
      "+----+------------+------------+----+-----+\n",
      "| 123|          CN|        1203|0.89|102.9|\n",
      "| 122|          CN|        1203|null|102.9|\n",
      "| 125|          CN|        1203|0.89| null|\n",
      "| 124|          US|        5223|0.89|142.9|\n",
      "+----+------------+------------+----+-----+\n",
      "\n",
      "+----+------------+------------+----+-----+----------+-----------+\n",
      "|asin|country_code|daily_budget|rate|price|ffill_rate|ffill_price|\n",
      "+----+------------+------------+----+-----+----------+-----------+\n",
      "| 124|          US|        5223|0.89|142.9|      0.89|      142.9|\n",
      "| 123|          CN|        1203|0.89|102.9|      0.89|      102.9|\n",
      "| 122|          CN|        1203|null|102.9|      0.89|      102.9|\n",
      "| 125|          CN|        1203|0.89| null|      0.89|      102.9|\n",
      "+----+------------+------------+----+-----+----------+-----------+\n"
     ]
    }
   ],
   "source": [
    "#分组填充空值\n",
    "\n",
    "import pyspark.sql.functions as F\n",
    "from pyspark.sql import Window\n",
    "\n",
    "df1_ffill = df1\n",
    "\n",
    "w_forward = Window.partitionBy('country_code').rowsBetween(Window.unboundedPreceding,Window.currentRow)\n",
    "for fil_col in ['rate', 'price']:\n",
    "    df1_ffill = df1_ffill.withColumn('ffill_{}'.format(fil_col), F.last(fil_col,ignorenulls=True).over(w_forward))\n",
    "    \n",
    "df1.show()\n",
    "df1_ffill.show()"
   ]
  },
  {
   "cell_type": "code",
   "execution_count": 6,
   "id": "725e0c88-7e8d-4087-a787-8d9b24d6bf7c",
   "metadata": {
    "tags": []
   },
   "outputs": [
    {
     "name": "stdout",
     "output_type": "stream",
     "text": [
      "+----+------------+-----+\n",
      "|asin|country_code|price|\n",
      "+----+------------+-----+\n",
      "| 123|          CN|102.9|\n",
      "| 122|          CN|102.9|\n",
      "| 125|          CN| null|\n",
      "| 124|          US|142.9|\n",
      "+----+------------+-----+\n"
     ]
    }
   ],
   "source": [
    "# drop column\n",
    "col_list = ['daily_budget', 'rate']\n",
    "  \n",
    "# delete two columns\n",
    "df1_drop = df1.drop(*col_list)\n",
    "df1_drop.show()"
   ]
  },
  {
   "cell_type": "code",
   "execution_count": 7,
   "id": "98e854a3-7e7b-4a9a-ade6-a2b79afda3f7",
   "metadata": {
    "tags": []
   },
   "outputs": [
    {
     "name": "stdout",
     "output_type": "stream",
     "text": [
      "+----+------------+------------+----+-----+----+------------+-----------+----------+\n",
      "|asin|country_code|daily_budget|rate|price|asin|country_code|report_date|review_num|\n",
      "+----+------------+------------+----+-----+----+------------+-----------+----------+\n",
      "|123 |CN          |1203        |0.89|102.9|123 |CN          |2023-02-09 |20        |\n",
      "|122 |CN          |1203        |null|102.9|122 |CN          |2023-02-08 |12        |\n",
      "|125 |CN          |1203        |0.89|null |125 |CN          |2023-02-04 |9         |\n",
      "|124 |US          |5223        |0.89|142.9|124 |US          |2023-02-02 |8         |\n",
      "+----+------------+------------+----+-----+----+------------+-----------+----------+\n"
     ]
    }
   ],
   "source": [
    "# merge 表\n",
    "\n",
    "df_merge = df1.join(df2, df1.asin ==  df2.asin,\"left\")\n",
    "df_merge.show(truncate=False)"
   ]
  },
  {
   "cell_type": "code",
   "execution_count": 8,
   "id": "152e6473-36ce-49c8-bd9d-1415ed3cbcbd",
   "metadata": {
    "tags": []
   },
   "outputs": [
    {
     "name": "stdout",
     "output_type": "stream",
     "text": [
      "+----+------------+------------+----+-----+----------+-----------+------------------+\n",
      "|asin|country_code|daily_budget|rate|price|ffill_rate|ffill_price|            result|\n",
      "+----+------------+------------+----+-----+----------+-----------+------------------+\n",
      "| 124|          US|        5223|0.89|142.9|      0.89|      142.9|127.18100000000001|\n",
      "| 123|          CN|        1203|0.89|102.9|      0.89|      102.9|            91.581|\n",
      "| 122|          CN|        1203|null|102.9|      0.89|      102.9|              null|\n",
      "| 125|          CN|        1203|0.89| null|      0.89|      102.9|              null|\n",
      "+----+------------+------------+----+-----+----------+-----------+------------------+\n"
     ]
    }
   ],
   "source": [
    "# + - * / 作操等\n",
    "\n",
    "df_op = df1_ffill.withColumn('result', df1.rate * df1.price)\n",
    "df_op.show()"
   ]
  },
  {
   "cell_type": "code",
   "execution_count": 122,
   "id": "9e1b719f-92ea-4543-8204-e03a5f9215b7",
   "metadata": {},
   "outputs": [
    {
     "name": "stdout",
     "output_type": "stream",
     "text": [
      "\n"
     ]
    }
   ],
   "source": [
    "# 按天补数据，resample在pyspark中没有对应函数，参考网上的方案 自己实现了一个\n",
    "\n",
    "# Note: \n",
    "# date_field 需要时 timestamp / datetime 字段类型，不能是string\n",
    "# groupBy_fields 需要时groupby 的数组类型\n",
    "\n",
    "def resample(df, date_field, groupBy_fields):\n",
    "    # date_field = 'readtime'\n",
    "    # groupBy_fields = ['house']\n",
    "    date_min_name = '{}_min'.format(date_field)\n",
    "    date_max_name = '{}_max'.format(date_field)\n",
    "\n",
    "    df_base = df.groupby(groupBy_fields).agg(func.min(date_field).cast('integer').alias(date_min_name), \\\n",
    "                               func.max(date_field).cast('integer').alias(date_max_name))\n",
    "\n",
    "    def date_range(t1, t2, step=60*60*24):\n",
    "        \"\"\"Return a list of equally spaced points between t1 and t2 with stepsize step.\"\"\"\n",
    "        return [t1 + step*x for x in range(int((t2-t1)/step)+1)]\n",
    "\n",
    "    # define udf\n",
    "    date_range_udf = func.udf(date_range, ArrayType(LongType()))\n",
    "\n",
    "    # generate timegrid and explode\n",
    "    df_base = df_base.withColumn(date_field, func.explode(date_range_udf(date_min_name, date_max_name)))\\\n",
    "                 .drop(date_min_name, date_max_name)\n",
    "\n",
    "    df_base = df_base.withColumn(date_field, col(date_field).cast('timestamp'))\n",
    "\n",
    "    join_fields = groupBy_fields.copy()\n",
    "    join_fields.append(date_field)\n",
    "\n",
    "    sup_df = df_base.join(df, join_fields, \"leftouter\")\n",
    "    \n",
    "    return sup_df"
   ]
  },
  {
   "cell_type": "code",
   "execution_count": 123,
   "id": "dbccfeef-b123-4f0a-9ace-4353bcadb152",
   "metadata": {
    "tags": []
   },
   "outputs": [
    {
     "name": "stdout",
     "output_type": "stream",
     "text": [
      "+------------+-------------------+----+-------------------+----------+\n",
      "|country_code|           new_date|asin|        report_date|review_num|\n",
      "+------------+-------------------+----+-------------------+----------+\n",
      "|          US|2023-02-02 05:02:02| 124|2023-02-02 05:02:02|         8|\n",
      "|          CN|2023-02-04 04:04:01| 125|2023-02-04 04:04:01|         9|\n",
      "|          CN|2023-02-05 04:04:01|null|               null|      null|\n",
      "|          CN|2023-02-06 04:04:01|null|               null|      null|\n",
      "|          CN|2023-02-07 04:04:01|null|               null|      null|\n",
      "|          CN|2023-02-08 04:04:01|null|               null|      null|\n",
      "+------------+-------------------+----+-------------------+----------+\n"
     ]
    }
   ],
   "source": [
    "# 按天补数据 example\n",
    "\n",
    "from pyspark.sql import functions as F\n",
    "df2 = df2.withColumn('new_date',F.unix_timestamp(df2.report_date, 'yyyy-MM-dd HH:mm:ss').cast('timestamp'))\n",
    "\n",
    "df_out = resample(df2, 'new_date', ['country_code'])\n",
    "df_out.show(100)"
   ]
  },
  {
   "cell_type": "code",
   "execution_count": 137,
   "id": "383a7a22-ff70-4ad3-8b3d-b5dbbdd55055",
   "metadata": {
    "tags": []
   },
   "outputs": [
    {
     "name": "stdout",
     "output_type": "stream",
     "text": [
      "\n"
     ]
    }
   ],
   "source": [
    "#滑窗特征\n",
    "df3_data = [(121, 'CN', '2023-02-09 01:00:20', 20), \n",
    "            (121, 'CN', '2023-02-08 02:12:02', 12), \n",
    "            (121, 'CN', '2023-02-07 03:12:44', 12), \n",
    "            (122, 'US', '2023-02-04 04:04:01', 9), \n",
    "            (122, 'US', '2023-02-02 05:02:02', 8)]\n",
    "df3 = spark.createDataFrame(df3_data, ['asin', 'country_code', 'report_date','review_num']) # list -> DF\n",
    "\n",
    "\n",
    "df3.registerTempTable(\"asin_review_table\")\n",
    "\n",
    "# 天级聚合表\n",
    "df3_rolling = spark.sql(\n",
    "    \"\"\"\n",
    "    select asin, country_code, report_date, review_num, \n",
    "    avg(review_num) over (partition by asin, country_code order by report_date rows between 2 preceding and current row) as avg_window,\n",
    "    sum(review_num) over (partition by asin, country_code order by report_date rows between 2 preceding and current row) as sum_window\n",
    "    from asin_review_table\n",
    "    \"\"\"\n",
    ")"
   ]
  },
  {
   "cell_type": "code",
   "execution_count": 138,
   "id": "c99d9007-45dc-4f1a-803d-9afb7f286c1a",
   "metadata": {
    "tags": []
   },
   "outputs": [
    {
     "name": "stdout",
     "output_type": "stream",
     "text": [
      "+----+------------+-------------------+----------+------------------+----------+\n",
      "|asin|country_code|        report_date|review_num|        avg_window|sum_window|\n",
      "+----+------------+-------------------+----------+------------------+----------+\n",
      "| 121|          CN|2023-02-07 03:12:44|        12|              12.0|        12|\n",
      "| 121|          CN|2023-02-08 02:12:02|        12|              12.0|        24|\n",
      "| 121|          CN|2023-02-09 01:00:20|        20|14.666666666666666|        44|\n",
      "| 122|          US|2023-02-02 05:02:02|         8|               8.0|         8|\n",
      "| 122|          US|2023-02-04 04:04:01|         9|               8.5|        17|\n",
      "+----+------------+-------------------+----------+------------------+----------+\n"
     ]
    }
   ],
   "source": [
    "df3_rolling.show()"
   ]
  },
  {
   "cell_type": "code",
   "execution_count": 130,
   "id": "ac4b5d2d-ce94-43ae-8141-de783bf3c302",
   "metadata": {
    "tags": []
   },
   "outputs": [
    {
     "name": "stdout",
     "output_type": "stream",
     "text": [
      "\n"
     ]
    }
   ],
   "source": [
    "# onehot 特征处理\n",
    "\n",
    "import pyspark.sql.functions as F \n",
    "categ = df2.select('country_code').distinct().rdd.flatMap(lambda x:x).collect()\n",
    "exprs = [F.when(F.col('country_code') == cat,1).otherwise(0)\\\n",
    "            .alias(str(cat)) for cat in categ]\n",
    "df_onehot = df2.select(exprs+df2.columns)"
   ]
  },
  {
   "cell_type": "code",
   "execution_count": 131,
   "id": "1e42c47d-f36f-46e6-94bd-625c13198176",
   "metadata": {
    "tags": []
   },
   "outputs": [
    {
     "name": "stdout",
     "output_type": "stream",
     "text": [
      "+---+---+----+------------+-------------------+----------+-------------------+\n",
      "| US| CN|asin|country_code|        report_date|review_num|           new_date|\n",
      "+---+---+----+------------+-------------------+----------+-------------------+\n",
      "|  0|  1| 123|          CN|2023-02-09 01:00:20|        20|2023-02-09 01:00:20|\n",
      "|  0|  1| 122|          CN|2023-02-08 02:12:02|        12|2023-02-08 02:12:02|\n",
      "|  0|  1| 121|          CN|2023-02-08 03:12:44|        12|2023-02-08 03:12:44|\n",
      "|  0|  1| 125|          CN|2023-02-04 04:04:01|         9|2023-02-04 04:04:01|\n",
      "|  1|  0| 124|          US|2023-02-02 05:02:02|         8|2023-02-02 05:02:02|\n",
      "+---+---+----+------------+-------------------+----------+-------------------+\n"
     ]
    }
   ],
   "source": [
    "df_onehot.show()"
   ]
  }
 ],
 "metadata": {
  "availableInstances": [
   {
    "_defaultOrder": 0,
    "_isFastLaunch": true,
    "category": "General purpose",
    "gpuNum": 0,
    "memoryGiB": 4,
    "name": "ml.t3.medium",
    "vcpuNum": 2
   },
   {
    "_defaultOrder": 1,
    "_isFastLaunch": false,
    "category": "General purpose",
    "gpuNum": 0,
    "memoryGiB": 8,
    "name": "ml.t3.large",
    "vcpuNum": 2
   },
   {
    "_defaultOrder": 2,
    "_isFastLaunch": false,
    "category": "General purpose",
    "gpuNum": 0,
    "memoryGiB": 16,
    "name": "ml.t3.xlarge",
    "vcpuNum": 4
   },
   {
    "_defaultOrder": 3,
    "_isFastLaunch": false,
    "category": "General purpose",
    "gpuNum": 0,
    "memoryGiB": 32,
    "name": "ml.t3.2xlarge",
    "vcpuNum": 8
   },
   {
    "_defaultOrder": 4,
    "_isFastLaunch": true,
    "category": "General purpose",
    "gpuNum": 0,
    "memoryGiB": 8,
    "name": "ml.m5.large",
    "vcpuNum": 2
   },
   {
    "_defaultOrder": 5,
    "_isFastLaunch": false,
    "category": "General purpose",
    "gpuNum": 0,
    "memoryGiB": 16,
    "name": "ml.m5.xlarge",
    "vcpuNum": 4
   },
   {
    "_defaultOrder": 6,
    "_isFastLaunch": false,
    "category": "General purpose",
    "gpuNum": 0,
    "memoryGiB": 32,
    "name": "ml.m5.2xlarge",
    "vcpuNum": 8
   },
   {
    "_defaultOrder": 7,
    "_isFastLaunch": false,
    "category": "General purpose",
    "gpuNum": 0,
    "memoryGiB": 64,
    "name": "ml.m5.4xlarge",
    "vcpuNum": 16
   },
   {
    "_defaultOrder": 8,
    "_isFastLaunch": false,
    "category": "General purpose",
    "gpuNum": 0,
    "memoryGiB": 128,
    "name": "ml.m5.8xlarge",
    "vcpuNum": 32
   },
   {
    "_defaultOrder": 9,
    "_isFastLaunch": false,
    "category": "General purpose",
    "gpuNum": 0,
    "memoryGiB": 192,
    "name": "ml.m5.12xlarge",
    "vcpuNum": 48
   },
   {
    "_defaultOrder": 10,
    "_isFastLaunch": false,
    "category": "General purpose",
    "gpuNum": 0,
    "memoryGiB": 256,
    "name": "ml.m5.16xlarge",
    "vcpuNum": 64
   },
   {
    "_defaultOrder": 11,
    "_isFastLaunch": false,
    "category": "General purpose",
    "gpuNum": 0,
    "memoryGiB": 384,
    "name": "ml.m5.24xlarge",
    "vcpuNum": 96
   },
   {
    "_defaultOrder": 12,
    "_isFastLaunch": false,
    "category": "General purpose",
    "gpuNum": 0,
    "memoryGiB": 8,
    "name": "ml.m5d.large",
    "vcpuNum": 2
   },
   {
    "_defaultOrder": 13,
    "_isFastLaunch": false,
    "category": "General purpose",
    "gpuNum": 0,
    "memoryGiB": 16,
    "name": "ml.m5d.xlarge",
    "vcpuNum": 4
   },
   {
    "_defaultOrder": 14,
    "_isFastLaunch": false,
    "category": "General purpose",
    "gpuNum": 0,
    "memoryGiB": 32,
    "name": "ml.m5d.2xlarge",
    "vcpuNum": 8
   },
   {
    "_defaultOrder": 15,
    "_isFastLaunch": false,
    "category": "General purpose",
    "gpuNum": 0,
    "memoryGiB": 64,
    "name": "ml.m5d.4xlarge",
    "vcpuNum": 16
   },
   {
    "_defaultOrder": 16,
    "_isFastLaunch": false,
    "category": "General purpose",
    "gpuNum": 0,
    "memoryGiB": 128,
    "name": "ml.m5d.8xlarge",
    "vcpuNum": 32
   },
   {
    "_defaultOrder": 17,
    "_isFastLaunch": false,
    "category": "General purpose",
    "gpuNum": 0,
    "memoryGiB": 192,
    "name": "ml.m5d.12xlarge",
    "vcpuNum": 48
   },
   {
    "_defaultOrder": 18,
    "_isFastLaunch": false,
    "category": "General purpose",
    "gpuNum": 0,
    "memoryGiB": 256,
    "name": "ml.m5d.16xlarge",
    "vcpuNum": 64
   },
   {
    "_defaultOrder": 19,
    "_isFastLaunch": false,
    "category": "General purpose",
    "gpuNum": 0,
    "memoryGiB": 384,
    "name": "ml.m5d.24xlarge",
    "vcpuNum": 96
   },
   {
    "_defaultOrder": 20,
    "_isFastLaunch": true,
    "category": "Compute optimized",
    "gpuNum": 0,
    "memoryGiB": 4,
    "name": "ml.c5.large",
    "vcpuNum": 2
   },
   {
    "_defaultOrder": 21,
    "_isFastLaunch": false,
    "category": "Compute optimized",
    "gpuNum": 0,
    "memoryGiB": 8,
    "name": "ml.c5.xlarge",
    "vcpuNum": 4
   },
   {
    "_defaultOrder": 22,
    "_isFastLaunch": false,
    "category": "Compute optimized",
    "gpuNum": 0,
    "memoryGiB": 16,
    "name": "ml.c5.2xlarge",
    "vcpuNum": 8
   },
   {
    "_defaultOrder": 23,
    "_isFastLaunch": false,
    "category": "Compute optimized",
    "gpuNum": 0,
    "memoryGiB": 32,
    "name": "ml.c5.4xlarge",
    "vcpuNum": 16
   },
   {
    "_defaultOrder": 24,
    "_isFastLaunch": false,
    "category": "Compute optimized",
    "gpuNum": 0,
    "memoryGiB": 72,
    "name": "ml.c5.9xlarge",
    "vcpuNum": 36
   },
   {
    "_defaultOrder": 25,
    "_isFastLaunch": false,
    "category": "Compute optimized",
    "gpuNum": 0,
    "memoryGiB": 96,
    "name": "ml.c5.12xlarge",
    "vcpuNum": 48
   },
   {
    "_defaultOrder": 26,
    "_isFastLaunch": false,
    "category": "Compute optimized",
    "gpuNum": 0,
    "memoryGiB": 144,
    "name": "ml.c5.18xlarge",
    "vcpuNum": 72
   },
   {
    "_defaultOrder": 27,
    "_isFastLaunch": false,
    "category": "Compute optimized",
    "gpuNum": 0,
    "memoryGiB": 192,
    "name": "ml.c5.24xlarge",
    "vcpuNum": 96
   },
   {
    "_defaultOrder": 28,
    "_isFastLaunch": true,
    "category": "Accelerated computing",
    "gpuNum": 1,
    "memoryGiB": 16,
    "name": "ml.g4dn.xlarge",
    "vcpuNum": 4
   },
   {
    "_defaultOrder": 29,
    "_isFastLaunch": false,
    "category": "Accelerated computing",
    "gpuNum": 1,
    "memoryGiB": 32,
    "name": "ml.g4dn.2xlarge",
    "vcpuNum": 8
   },
   {
    "_defaultOrder": 30,
    "_isFastLaunch": false,
    "category": "Accelerated computing",
    "gpuNum": 1,
    "memoryGiB": 64,
    "name": "ml.g4dn.4xlarge",
    "vcpuNum": 16
   },
   {
    "_defaultOrder": 31,
    "_isFastLaunch": false,
    "category": "Accelerated computing",
    "gpuNum": 1,
    "memoryGiB": 128,
    "name": "ml.g4dn.8xlarge",
    "vcpuNum": 32
   },
   {
    "_defaultOrder": 32,
    "_isFastLaunch": false,
    "category": "Accelerated computing",
    "gpuNum": 4,
    "memoryGiB": 192,
    "name": "ml.g4dn.12xlarge",
    "vcpuNum": 48
   },
   {
    "_defaultOrder": 33,
    "_isFastLaunch": false,
    "category": "Accelerated computing",
    "gpuNum": 1,
    "memoryGiB": 256,
    "name": "ml.g4dn.16xlarge",
    "vcpuNum": 64
   },
   {
    "_defaultOrder": 34,
    "_isFastLaunch": false,
    "category": "Accelerated computing",
    "gpuNum": 1,
    "memoryGiB": 61,
    "name": "ml.p3.2xlarge",
    "vcpuNum": 8
   },
   {
    "_defaultOrder": 35,
    "_isFastLaunch": false,
    "category": "Accelerated computing",
    "gpuNum": 4,
    "memoryGiB": 244,
    "name": "ml.p3.8xlarge",
    "vcpuNum": 32
   },
   {
    "_defaultOrder": 36,
    "_isFastLaunch": false,
    "category": "Accelerated computing",
    "gpuNum": 8,
    "memoryGiB": 488,
    "name": "ml.p3.16xlarge",
    "vcpuNum": 64
   },
   {
    "_defaultOrder": 37,
    "_isFastLaunch": false,
    "category": "Accelerated computing",
    "gpuNum": 8,
    "memoryGiB": 768,
    "name": "ml.p3dn.24xlarge",
    "vcpuNum": 96
   },
   {
    "_defaultOrder": 38,
    "_isFastLaunch": false,
    "category": "Memory Optimized",
    "gpuNum": 0,
    "memoryGiB": 16,
    "name": "ml.r5.large",
    "vcpuNum": 2
   },
   {
    "_defaultOrder": 39,
    "_isFastLaunch": false,
    "category": "Memory Optimized",
    "gpuNum": 0,
    "memoryGiB": 32,
    "name": "ml.r5.xlarge",
    "vcpuNum": 4
   },
   {
    "_defaultOrder": 40,
    "_isFastLaunch": false,
    "category": "Memory Optimized",
    "gpuNum": 0,
    "memoryGiB": 64,
    "name": "ml.r5.2xlarge",
    "vcpuNum": 8
   },
   {
    "_defaultOrder": 41,
    "_isFastLaunch": false,
    "category": "Memory Optimized",
    "gpuNum": 0,
    "memoryGiB": 128,
    "name": "ml.r5.4xlarge",
    "vcpuNum": 16
   },
   {
    "_defaultOrder": 42,
    "_isFastLaunch": false,
    "category": "Memory Optimized",
    "gpuNum": 0,
    "memoryGiB": 256,
    "name": "ml.r5.8xlarge",
    "vcpuNum": 32
   },
   {
    "_defaultOrder": 43,
    "_isFastLaunch": false,
    "category": "Memory Optimized",
    "gpuNum": 0,
    "memoryGiB": 384,
    "name": "ml.r5.12xlarge",
    "vcpuNum": 48
   },
   {
    "_defaultOrder": 44,
    "_isFastLaunch": false,
    "category": "Memory Optimized",
    "gpuNum": 0,
    "memoryGiB": 512,
    "name": "ml.r5.16xlarge",
    "vcpuNum": 64
   },
   {
    "_defaultOrder": 45,
    "_isFastLaunch": false,
    "category": "Memory Optimized",
    "gpuNum": 0,
    "memoryGiB": 768,
    "name": "ml.r5.24xlarge",
    "vcpuNum": 96
   },
   {
    "_defaultOrder": 46,
    "_isFastLaunch": false,
    "category": "Accelerated computing",
    "gpuNum": 1,
    "memoryGiB": 16,
    "name": "ml.g5.xlarge",
    "vcpuNum": 4
   },
   {
    "_defaultOrder": 47,
    "_isFastLaunch": false,
    "category": "Accelerated computing",
    "gpuNum": 1,
    "memoryGiB": 32,
    "name": "ml.g5.2xlarge",
    "vcpuNum": 8
   },
   {
    "_defaultOrder": 48,
    "_isFastLaunch": false,
    "category": "Accelerated computing",
    "gpuNum": 1,
    "memoryGiB": 64,
    "name": "ml.g5.4xlarge",
    "vcpuNum": 16
   },
   {
    "_defaultOrder": 49,
    "_isFastLaunch": false,
    "category": "Accelerated computing",
    "gpuNum": 1,
    "memoryGiB": 128,
    "name": "ml.g5.8xlarge",
    "vcpuNum": 32
   },
   {
    "_defaultOrder": 50,
    "_isFastLaunch": false,
    "category": "Accelerated computing",
    "gpuNum": 1,
    "memoryGiB": 256,
    "name": "ml.g5.16xlarge",
    "vcpuNum": 64
   },
   {
    "_defaultOrder": 51,
    "_isFastLaunch": false,
    "category": "Accelerated computing",
    "gpuNum": 4,
    "memoryGiB": 192,
    "name": "ml.g5.12xlarge",
    "vcpuNum": 48
   },
   {
    "_defaultOrder": 52,
    "_isFastLaunch": false,
    "category": "Accelerated computing",
    "gpuNum": 4,
    "memoryGiB": 384,
    "name": "ml.g5.24xlarge",
    "vcpuNum": 96
   },
   {
    "_defaultOrder": 53,
    "_isFastLaunch": false,
    "category": "Accelerated computing",
    "gpuNum": 8,
    "memoryGiB": 768,
    "name": "ml.g5.48xlarge",
    "vcpuNum": 192
   }
  ],
  "instance_type": "ml.t3.medium",
  "kernelspec": {
   "display_name": "Glue Python [PySpark and Ray] (SparkAnalytics 1.0)",
   "language": "python",
   "name": "conda-env-sm_glue_is-glue_pyspark__SAGEMAKER_INTERNAL__arn:aws:sagemaker:us-east-1:081325390199:image/sagemaker-sparkanalytics-v1"
  },
  "language_info": {
   "codemirror_mode": {
    "name": "python",
    "version": 3
   },
   "file_extension": ".py",
   "mimetype": "text/x-python",
   "name": "Python_Glue_Session",
   "pygments_lexer": "python3"
  }
 },
 "nbformat": 4,
 "nbformat_minor": 5
}
